{
  "nbformat": 4,
  "nbformat_minor": 0,
  "metadata": {
    "colab": {
      "provenance": []
    },
    "kernelspec": {
      "name": "python3",
      "display_name": "Python 3"
    },
    "language_info": {
      "name": "python"
    }
  },
  "cells": [
    {
      "cell_type": "code",
      "execution_count": 2,
      "metadata": {
        "colab": {
          "base_uri": "https://localhost:8080/"
        },
        "id": "hUFGNEzAra7W",
        "outputId": "4686c4f9-bb3c-4468-b601-721293cceacb"
      },
      "outputs": [
        {
          "output_type": "stream",
          "name": "stdout",
          "text": [
            "\r[*********************100%***********************]  1 of 1 completed\n",
            "Daily Returns:\n",
            "Date\n",
            "2021-01-04         NaN\n",
            "2021-01-05    0.010004\n",
            "2021-01-06   -0.024897\n",
            "2021-01-07    0.007577\n",
            "2021-01-08    0.006496\n",
            "                ...   \n",
            "2021-12-23    0.000184\n",
            "2021-12-27   -0.008178\n",
            "2021-12-28    0.005844\n",
            "2021-12-29   -0.008555\n",
            "2021-12-30   -0.003289\n",
            "Name: daily_returns, Length: 251, dtype: float64\n",
            "Weekly Returns:\n",
            "0.0017026555345393535\n",
            "Monthly Returns:\n",
            "0.006150083702832775\n"
          ]
        }
      ],
      "source": [
        "import yfinance as yf\n",
        "import pandas as pd\n",
        "\n",
        "# Define the start and end dates\n",
        "start_date = '2021-01-01'\n",
        "end_date = '2021-12-31'\n",
        "\n",
        "\n",
        "\n",
        "# بارگیری داده‌ها از فایل CSV\n",
        "df=yf.download('AMZN', start=start_date, end=end_date)\n",
        "\n",
        "\n",
        "# محاسبه بازدهی روزانه\n",
        "df['daily_returns'] = df['Close'].pct_change()\n",
        "\n",
        "# محاسبه بازدهی هفتگی\n",
        "weekly_returns = df['Close'].resample('W').last().pct_change().mean()\n",
        "\n",
        "# محاسبه بازدهی ماهانه\n",
        "monthly_returns = df['Close'].resample('M').last().pct_change().mean()\n",
        "\n",
        "# چاپ نتایج\n",
        "print(\"Daily Returns:\")\n",
        "print(df['daily_returns'])\n",
        "\n",
        "print(\"Weekly Returns:\")\n",
        "print(weekly_returns)\n",
        "\n",
        "print(\"Monthly Returns:\")\n",
        "print(monthly_returns)"
      ]
    }
  ]
}